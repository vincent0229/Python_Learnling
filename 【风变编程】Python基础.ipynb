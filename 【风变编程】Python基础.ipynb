{
 "cells": [
  {
   "cell_type": "markdown",
   "metadata": {},
   "source": [
    "# 一、Python基础"
   ]
  },
  {
   "cell_type": "markdown",
   "metadata": {},
   "source": [
    "## 1.1、第一行Python代码"
   ]
  },
  {
   "cell_type": "code",
   "execution_count": 10,
   "metadata": {},
   "outputs": [
    {
     "name": "stdout",
     "output_type": "stream",
     "text": [
      "在2024-12-02 21:33:28，我写了人生中第一行Python代码\n",
      "它的内容虽然简单，不过是平凡的一句print(520)\n",
      "但我知道：我的编程之路，将从最简单的520开始\n",
      "在我点击运行的同时，一切在这一刻开始变得不同\n",
      "以下，是这行代码的运算结果：\n",
      "520\n"
     ]
    }
   ],
   "source": [
    "import time\n",
    "print ('在'+time.strftime(\"%Y-%m-%d %H:%M:%S\", time.localtime())+'，我写了人生中第一行Python代码\\n它的内容虽然简单，不过是平凡的一句print(520)\\n但我知道：我的编程之路，将从最简单的520开始\\n在我点击运行的同时，一切在这一刻开始变得不同\\n以下，是这行代码的运算结果：' )\n",
    "print(520)"
   ]
  },
  {
   "cell_type": "markdown",
   "metadata": {},
   "source": [
    "## 1.2、print()函数、打印换行【三引号】的应用"
   ]
  },
  {
   "cell_type": "code",
   "execution_count": null,
   "metadata": {},
   "outputs": [
    {
     "name": "stdout",
     "output_type": "stream",
     "text": [
      "\n",
      "    へ　　　　　／|\n",
      "　　/＼7　　　 ∠＿/\n",
      "　 /　│　　 ／　／\n",
      "　│　Z ＿,＜　／　　 /`ヽ\n",
      "　│　　　　　ヽ　　 /　　〉\n",
      "　 Y　　　　　`　 /　　/\n",
      "　ｲ●　､　●　　⊂⊃〈　　/\n",
      "　()　 へ　　　　|　＼〈\n",
      "　　>ｰ ､_　 ィ　 │ ／／\n",
      "　 / へ　　 /　ﾉ＜| ＼＼\n",
      "　 ヽ_ﾉ　　(_／　 │／／\n",
      "　　7　　　　　　　|／\n",
      "　　＞―r￣￣`ｰ―＿\n",
      "      \n"
     ]
    }
   ],
   "source": [
    "print('''\n",
    "    へ　　　　　／|\n",
    "　　/＼7　　　 ∠＿/\n",
    "　 /　│　　 ／　／\n",
    "　│　Z ＿,＜　／　　 /`ヽ\n",
    "　│　　　　　ヽ　　 /　　〉\n",
    "　 Y　　　　　`　 /　　/\n",
    "　ｲ●　､　●　　⊂⊃〈　　/\n",
    "　()　 へ　　　　|　＼〈\n",
    "　　>ｰ ､_　 ィ　 │ ／／\n",
    "　 / へ　　 /　ﾉ＜| ＼＼\n",
    "　 ヽ_ﾉ　　(_／　 │／／\n",
    "　　7　　　　　　　|／\n",
    "　　＞―r￣￣`ｰ―＿\n",
    "      ''')"
   ]
  },
  {
   "cell_type": "markdown",
   "metadata": {},
   "source": [
    "## 1.3、转义字符【\\】和【\\n】的应用"
   ]
  },
  {
   "cell_type": "code",
   "execution_count": null,
   "metadata": {},
   "outputs": [
    {
     "name": "stdout",
     "output_type": "stream",
     "text": [
      "千寻你好，人们叫我'无脸男'\n",
      "这个世界的人都选择无视我\n",
      "只有你看到了我并和我打招呼\n",
      "我感到很孤单，很孤单\n",
      "你愿意和我成为朋友吗？\n"
     ]
    }
   ],
   "source": [
    "print(\"千寻你好，人们叫我\\'无脸男\\'\\n这个世界的人都选择无视我\\n只有你看到了我并和我打招呼\\n我感到很孤单，很孤单\\n你愿意和我成为朋友吗？\")"
   ]
  },
  {
   "cell_type": "markdown",
   "metadata": {},
   "source": [
    "## 1.4、数据拼接【+】和str()函数的应用"
   ]
  },
  {
   "cell_type": "code",
   "execution_count": null,
   "metadata": {},
   "outputs": [
    {
     "name": "stdout",
     "output_type": "stream",
     "text": [
      "1人我编程累碎掉的节操满地堆\n",
      "2眼是bug相随我只求今日能早归\n"
     ]
    }
   ],
   "source": [
    "number1  = 1\n",
    "number2 = 2\n",
    "unit1 = '人'\n",
    "unit2 = '眼'\n",
    "line1 = '我编程累'\n",
    "line2 = '是bug相随'\n",
    "sentence1 = '碎掉的节操满地堆'\n",
    "sentence2 = '我只求今日能早归'\n",
    "print(str(number1)+unit1+line1+sentence1)\n",
    "print(str(number2)+unit2+line2+sentence2)"
   ]
  },
  {
   "cell_type": "markdown",
   "metadata": {},
   "source": [
    "## 1.5、数据拼接【+】和str()函数的应用"
   ]
  },
  {
   "cell_type": "code",
   "execution_count": null,
   "metadata": {},
   "outputs": [
    {
     "name": "stdout",
     "output_type": "stream",
     "text": [
      "脸黑怪我咯7张蓝票一个SSR都没有\n"
     ]
    }
   ],
   "source": [
    "slogan = '脸黑怪我咯'\n",
    "number = '7.8'\n",
    "unit = '张'\n",
    "sentence = '蓝票一个SSR都没有'\n",
    "print(slogan+str(int(float(number)))+unit+sentence)"
   ]
  },
  {
   "cell_type": "markdown",
   "metadata": {},
   "source": [
    "## 1.6、if条件判断的应用1"
   ]
  },
  {
   "cell_type": "code",
   "execution_count": 26,
   "metadata": {},
   "outputs": [
    {
     "name": "stdout",
     "output_type": "stream",
     "text": [
      "获得了打败灭霸的力量，反杀稳了\n"
     ]
    }
   ],
   "source": [
    "number=5\n",
    "if number>=4:\n",
    "    print('获得了打败灭霸的力量，反杀稳了')\n",
    "elif 1<=number<4:\n",
    "    print('可以全员出动，殊死一搏')\n",
    "else:\n",
    "    print('没办法了，只能尝试呼叫惊奇队长')"
   ]
  },
  {
   "cell_type": "markdown",
   "metadata": {},
   "source": [
    "## 1.7、if条件判断的应用2"
   ]
  },
  {
   "cell_type": "code",
   "execution_count": 25,
   "metadata": {},
   "outputs": [
    {
     "name": "stdout",
     "output_type": "stream",
     "text": [
      "经济危机都难不倒您！\n",
      "您快比钢铁侠有钱了\n",
      "程序结束\n"
     ]
    }
   ],
   "source": [
    "salary=1500\n",
    "\n",
    "if salary<=500:\n",
    "  print('欢迎进入史塔克穷人榜前三名')\n",
    "  if 100<salary<=500:\n",
    "      print('请找弗瑞队长加薪')\n",
    "  else:\n",
    "      print('恭喜您荣获“美元队长')\n",
    "\n",
    "elif 500<salary<=1000:\n",
    "  print('祝贺您至少可以温饱了')\n",
    "\n",
    "else:\n",
    "  print('经济危机都难不倒您！')\n",
    "  if 1000<salary<=20000:\n",
    "      print('您快比钢铁侠有钱了')\n",
    "  else:\n",
    "      print('您是不是来自于瓦坎达国？')\n",
    "print('程序结束')"
   ]
  },
  {
   "cell_type": "markdown",
   "metadata": {},
   "source": [
    "## 1.8、input()函数和数据拼接的应用"
   ]
  },
  {
   "cell_type": "code",
   "execution_count": 1,
   "metadata": {},
   "outputs": [
    {
     "name": "stdout",
     "output_type": "stream",
     "text": [
      "哈利·波特的猫头鹰叫做小野\n"
     ]
    }
   ],
   "source": [
    "name=input(\"请输入猫头鹰的名字：\")\n",
    "print('哈利·波特的猫头鹰叫做'+name)"
   ]
  },
  {
   "cell_type": "markdown",
   "metadata": {},
   "source": [
    "## 1.9、input()函数、数据类型转换和if条件判断语句的应用"
   ]
  },
  {
   "cell_type": "code",
   "execution_count": 3,
   "metadata": {},
   "outputs": [
    {
     "name": "stdout",
     "output_type": "stream",
     "text": [
      "哈利就给罗恩100块\n"
     ]
    }
   ],
   "source": [
    "number=int(input('请输入罗恩吃的巧克力蛙数量：'))\n",
    "if number>10:\n",
    "    print('罗恩要给哈利100块')\n",
    "else:\n",
    "    print('哈利就给罗恩100块')"
   ]
  },
  {
   "cell_type": "markdown",
   "metadata": {},
   "source": [
    "## 1.10、input()函数、if条件判断语句、数据类型转换、数据拼接和数据运算的应用"
   ]
  },
  {
   "cell_type": "code",
   "execution_count": 19,
   "metadata": {},
   "outputs": [
    {
     "name": "stdout",
     "output_type": "stream",
     "text": [
      "金加隆和人民币的兑换率为1:51.3，即一金加隆=51.3人民币\n",
      "好的，我知道了，您需要兑换23.5金加隆。\n",
      "那么，您需要付给我1205.55人民币。\n"
     ]
    }
   ],
   "source": [
    "choice=input('您好，欢迎来到古灵阁，请问您需要帮助吗？请输入需要or不需要：')\n",
    "if choice=='需要':\n",
    "    number=int(input('请问您需要什么帮助呢？1 存取款；2 货币兑换；3 咨询:'))\n",
    "    if number==1:\n",
    "        print('左转第一个窗口就是存取款窗口')\n",
    "    elif number==2:\n",
    "        print('金加隆和人民币的兑换率为1:51.3，即一金加隆=51.3人民币')\n",
    "        money=input('请问您需要兑换多少金加隆呢？')\n",
    "        print('好的，我知道了，您需要兑换'+money+'金加隆。')\n",
    "        print('那么，您需要付给我'+str(float(money)*51.3)+'人民币。'  )      \n",
    "    else:\n",
    "        print('右转第一个窗口就是存取款窗口')      \n",
    "else:\n",
    "    print('好的，再见')"
   ]
  },
  {
   "cell_type": "markdown",
   "metadata": {},
   "source": []
  }
 ],
 "metadata": {
  "kernelspec": {
   "display_name": "Python 3",
   "language": "python",
   "name": "python3"
  },
  "language_info": {
   "codemirror_mode": {
    "name": "ipython",
    "version": 3
   },
   "file_extension": ".py",
   "mimetype": "text/x-python",
   "name": "python",
   "nbconvert_exporter": "python",
   "pygments_lexer": "ipython3",
   "version": "3.12.4"
  }
 },
 "nbformat": 4,
 "nbformat_minor": 2
}
