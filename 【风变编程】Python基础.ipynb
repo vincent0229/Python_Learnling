{
 "cells": [
  {
   "cell_type": "markdown",
   "metadata": {},
   "source": [
    "# 一、Python基础"
   ]
  },
  {
   "cell_type": "markdown",
   "metadata": {},
   "source": [
    "## 1.1、第一行Python代码"
   ]
  },
  {
   "cell_type": "code",
   "execution_count": 10,
   "metadata": {},
   "outputs": [
    {
     "name": "stdout",
     "output_type": "stream",
     "text": [
      "在2024-12-02 21:33:28，我写了人生中第一行Python代码\n",
      "它的内容虽然简单，不过是平凡的一句print(520)\n",
      "但我知道：我的编程之路，将从最简单的520开始\n",
      "在我点击运行的同时，一切在这一刻开始变得不同\n",
      "以下，是这行代码的运算结果：\n",
      "520\n"
     ]
    }
   ],
   "source": [
    "import time\n",
    "print ('在'+time.strftime(\"%Y-%m-%d %H:%M:%S\", time.localtime())+'，我写了人生中第一行Python代码\\n它的内容虽然简单，不过是平凡的一句print(520)\\n但我知道：我的编程之路，将从最简单的520开始\\n在我点击运行的同时，一切在这一刻开始变得不同\\n以下，是这行代码的运算结果：' )\n",
    "print(520)"
   ]
  },
  {
   "cell_type": "markdown",
   "metadata": {},
   "source": [
    "## 1.2、三引号【''''''】的应用"
   ]
  },
  {
   "cell_type": "code",
   "execution_count": null,
   "metadata": {},
   "outputs": [
    {
     "name": "stdout",
     "output_type": "stream",
     "text": [
      "\n",
      "    へ　　　　　／|\n",
      "　　/＼7　　　 ∠＿/\n",
      "　 /　│　　 ／　／\n",
      "　│　Z ＿,＜　／　　 /`ヽ\n",
      "　│　　　　　ヽ　　 /　　〉\n",
      "　 Y　　　　　`　 /　　/\n",
      "　ｲ●　､　●　　⊂⊃〈　　/\n",
      "　()　 へ　　　　|　＼〈\n",
      "　　>ｰ ､_　 ィ　 │ ／／\n",
      "　 / へ　　 /　ﾉ＜| ＼＼\n",
      "　 ヽ_ﾉ　　(_／　 │／／\n",
      "　　7　　　　　　　|／\n",
      "　　＞―r￣￣`ｰ―＿\n",
      "      \n"
     ]
    }
   ],
   "source": [
    "print('''\n",
    "    へ　　　　　／|\n",
    "　　/＼7　　　 ∠＿/\n",
    "　 /　│　　 ／　／\n",
    "　│　Z ＿,＜　／　　 /`ヽ\n",
    "　│　　　　　ヽ　　 /　　〉\n",
    "　 Y　　　　　`　 /　　/\n",
    "　ｲ●　､　●　　⊂⊃〈　　/\n",
    "　()　 へ　　　　|　＼〈\n",
    "　　>ｰ ､_　 ィ　 │ ／／\n",
    "　 / へ　　 /　ﾉ＜| ＼＼\n",
    "　 ヽ_ﾉ　　(_／　 │／／\n",
    "　　7　　　　　　　|／\n",
    "　　＞―r￣￣`ｰ―＿\n",
    "      ''')"
   ]
  },
  {
   "cell_type": "markdown",
   "metadata": {},
   "source": [
    "## 1.3、转义字符【\\】和【\\n】的应用"
   ]
  },
  {
   "cell_type": "code",
   "execution_count": null,
   "metadata": {},
   "outputs": [
    {
     "name": "stdout",
     "output_type": "stream",
     "text": [
      "千寻你好，人们叫我'无脸男'\n",
      "这个世界的人都选择无视我\n",
      "只有你看到了我并和我打招呼\n",
      "我感到很孤单，很孤单\n",
      "你愿意和我成为朋友吗？\n"
     ]
    }
   ],
   "source": [
    "print(\"千寻你好，人们叫我\\'无脸男\\'\\n这个世界的人都选择无视我\\n只有你看到了我并和我打招呼\\n我感到很孤单，很孤单\\n你愿意和我成为朋友吗？\")"
   ]
  },
  {
   "cell_type": "markdown",
   "metadata": {},
   "source": [
    "## 1.4、数据拼接【+】和str()函数的应用"
   ]
  },
  {
   "cell_type": "code",
   "execution_count": null,
   "metadata": {},
   "outputs": [
    {
     "name": "stdout",
     "output_type": "stream",
     "text": [
      "1人我编程累碎掉的节操满地堆\n",
      "2眼是bug相随我只求今日能早归\n"
     ]
    }
   ],
   "source": [
    "number1  = 1\n",
    "number2 = 2\n",
    "unit1 = '人'\n",
    "unit2 = '眼'\n",
    "line1 = '我编程累'\n",
    "line2 = '是bug相随'\n",
    "sentence1 = '碎掉的节操满地堆'\n",
    "sentence2 = '我只求今日能早归'\n",
    "print(str(number1)+unit1+line1+sentence1)\n",
    "print(str(number2)+unit2+line2+sentence2)"
   ]
  },
  {
   "cell_type": "markdown",
   "metadata": {},
   "source": [
    "## 1.5、数据拼接【+】和str()函数的应用"
   ]
  },
  {
   "cell_type": "code",
   "execution_count": null,
   "metadata": {},
   "outputs": [
    {
     "name": "stdout",
     "output_type": "stream",
     "text": [
      "脸黑怪我咯7张蓝票一个SSR都没有\n"
     ]
    }
   ],
   "source": [
    "slogan = '脸黑怪我咯'\n",
    "number = '7.8'\n",
    "unit = '张'\n",
    "sentence = '蓝票一个SSR都没有'\n",
    "print(slogan+str(int(float(number)))+unit+sentence)"
   ]
  }
 ],
 "metadata": {
  "kernelspec": {
   "display_name": "Python 3",
   "language": "python",
   "name": "python3"
  },
  "language_info": {
   "codemirror_mode": {
    "name": "ipython",
    "version": 3
   },
   "file_extension": ".py",
   "mimetype": "text/x-python",
   "name": "python",
   "nbconvert_exporter": "python",
   "pygments_lexer": "ipython3",
   "version": "3.12.4"
  }
 },
 "nbformat": 4,
 "nbformat_minor": 2
}
